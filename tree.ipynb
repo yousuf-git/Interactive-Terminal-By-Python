{
 "cells": [
  {
   "cell_type": "code",
   "execution_count": 12,
   "metadata": {},
   "outputs": [
    {
     "data": {
      "text/html": [
       "<pre style=\"white-space:pre;overflow-x:auto;line-height:normal;font-family:Menlo,'DejaVu Sans Mono',consolas,'Courier New',monospace\">Rich Tree                                                                                    \n",
       "</pre>\n"
      ],
      "text/plain": [
       "Rich Tree                                                                                    \n"
      ]
     },
     "metadata": {},
     "output_type": "display_data"
    }
   ],
   "source": [
    "from rich.tree import Tree\n",
    "from rich import print\n",
    "\n",
    "tree = Tree(\"Rich Tree\")\n",
    "print(tree)\n"
   ]
  },
  {
   "cell_type": "code",
   "execution_count": 13,
   "metadata": {},
   "outputs": [
    {
     "data": {
      "text/html": [
       "<pre style=\"white-space:pre;overflow-x:auto;line-height:normal;font-family:Menlo,'DejaVu Sans Mono',consolas,'Courier New',monospace\">Rich Tree                                                                                    \n",
       "├── foo                                                                                      \n",
       "└── bar                                                                                      \n",
       "</pre>\n"
      ],
      "text/plain": [
       "Rich Tree                                                                                    \n",
       "├── foo                                                                                      \n",
       "└── bar                                                                                      \n"
      ]
     },
     "metadata": {},
     "output_type": "display_data"
    }
   ],
   "source": [
    "tree.add(\"foo\")\n",
    "tree.add(\"bar\")\n",
    "print(tree)\n"
   ]
  },
  {
   "cell_type": "code",
   "execution_count": 14,
   "metadata": {},
   "outputs": [
    {
     "data": {
      "text/html": [
       "<pre style=\"white-space:pre;overflow-x:auto;line-height:normal;font-family:Menlo,'DejaVu Sans Mono',consolas,'Courier New',monospace\">Rich Tree                                                                                    \n",
       "├── foo                                                                                      \n",
       "├── bar                                                                                      \n",
       "└── baz                                                                                      \n",
       "    └── <span style=\"color: #800000; text-decoration-color: #800000\">Red</span>                                                                                  \n",
       "        └── <span style=\"color: #008000; text-decoration-color: #008000\">Green</span>                                                                            \n",
       "            └── <span style=\"color: #000080; text-decoration-color: #000080\">Blue</span>                                                                         \n",
       "</pre>\n"
      ],
      "text/plain": [
       "Rich Tree                                                                                    \n",
       "├── foo                                                                                      \n",
       "├── bar                                                                                      \n",
       "└── baz                                                                                      \n",
       "    └── \u001b[31mRed\u001b[0m                                                                                  \n",
       "        └── \u001b[32mGreen\u001b[0m                                                                            \n",
       "            └── \u001b[21;34mBlue\u001b[0m\u001b[21m                                                                         \u001b[0m\n"
      ]
     },
     "metadata": {},
     "output_type": "display_data"
    }
   ],
   "source": [
    "\n",
    "baz_tree = tree.add(\"baz\")\n",
    "baz_tree.add(\"[red]Red\").add(\"[green]Green\").add(\"[blue]Blue\", style=\"underline2\")\n",
    "print(tree)"
   ]
  },
  {
   "cell_type": "markdown",
   "metadata": {},
   "source": [
    "## Recursively walks through the directory tree starting from the given path and adds the files and directories to the tree.\n",
    "\n",
    "    Args:\n",
    "        path (pathlib.Path): The path to start walking from.\n",
    "        tree (rich.tree.Tree): The tree object to add the files and directories to."
   ]
  },
  {
   "cell_type": "code",
   "execution_count": null,
   "metadata": {},
   "outputs": [],
   "source": [
    "import os\n",
    "import sys\n",
    "import pathlib\n",
    "from rich import print\n",
    "from rich.tree import Tree\n",
    "\n",
    "def walk_directory(path, tree):\n",
    "    for p in sorted(path.iterdir()):\n",
    "        if p.is_dir():\n",
    "            branch = tree.add(f\":open_file_folder: [bold]{p.name}\", guide_style=\"dim\")\n",
    "            walk_directory(p, branch)\n",
    "        else:\n",
    "            icon = \"🐍 \" if path.suffix == \".py\" else \"📄 \"\n",
    "            tree.add(Text(icon) + p.name, guide_style=\"bright\")\n",
    "            # tree.add(f\":page_facing_up: {p.name}\", guide_style=\"bright\")\n",
    "\n",
    "try:\n",
    "    directory = os.path.abspath(\"path/to/directory\")\n",
    "except IndexError:\n",
    "    print(\"[b]Usage:[/] python tree.py <DIRECTORY>\")\n",
    "else:\n",
    "    tree = Tree(\n",
    "        f\":open_file_folder: [link file://{directory}]{directory}\",\n",
    "        guide_style=\"bold bright_blue\",\n",
    "    )\n",
    "    walk_directory(pathlib.Path(directory), tree)\n",
    "    print(tree)"
   ]
  }
 ],
 "metadata": {
  "kernelspec": {
   "display_name": "Python 3",
   "language": "python",
   "name": "python3"
  },
  "language_info": {
   "codemirror_mode": {
    "name": "ipython",
    "version": 3
   },
   "file_extension": ".py",
   "mimetype": "text/x-python",
   "name": "python",
   "nbconvert_exporter": "python",
   "pygments_lexer": "ipython3",
   "version": "3.10.12"
  }
 },
 "nbformat": 4,
 "nbformat_minor": 2
}
