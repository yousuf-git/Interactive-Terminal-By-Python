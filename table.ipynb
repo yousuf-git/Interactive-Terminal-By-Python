{
 "cells": [
  {
   "cell_type": "markdown",
   "metadata": {},
   "source": [
    "## Prints a table of Star Wars movies with their release dates and box office earnings"
   ]
  },
  {
   "cell_type": "code",
   "execution_count": 7,
   "metadata": {},
   "outputs": [
    {
     "data": {
      "text/html": [
       "<pre style=\"white-space:pre;overflow-x:auto;line-height:normal;font-family:Menlo,'DejaVu Sans Mono',consolas,'Courier New',monospace\"><span style=\"font-style: italic\">                          Star Wars Movies                           </span>\n",
       "┏━━━━━━━━━━━━━━┳━━━━━━━━━━━━━━━━━━━━━━━━━━━━━━━━━━━┳━━━━━━━━━━━━━━━━┓\n",
       "┃<span style=\"font-weight: bold\">   Released   </span>┃<span style=\"font-weight: bold\"> Title                             </span>┃<span style=\"font-weight: bold\">     Box Office </span>┃\n",
       "┡━━━━━━━━━━━━━━╇━━━━━━━━━━━━━━━━━━━━━━━━━━━━━━━━━━━╇━━━━━━━━━━━━━━━━┩\n",
       "│<span style=\"color: #008080; text-decoration-color: #008080\"> Dec 20, 2019 </span>│<span style=\"color: #800080; text-decoration-color: #800080\"> Star Wars: The Rise of Skywalker  </span>│<span style=\"color: #008000; text-decoration-color: #008000\">   $952,110,690 </span>│\n",
       "│<span style=\"color: #008080; text-decoration-color: #008080\"> May 25, 2018 </span>│<span style=\"color: #800080; text-decoration-color: #800080\"> Solo: A Star Wars Story           </span>│<span style=\"color: #008000; text-decoration-color: #008000\">   $393,151,347 </span>│\n",
       "│<span style=\"color: #008080; text-decoration-color: #008080\"> Dec 15, 2017 </span>│<span style=\"color: #800080; text-decoration-color: #800080\"> Star Wars Ep. V111: The Last Jedi </span>│<span style=\"color: #008000; text-decoration-color: #008000\"> $1,332,539,889 </span>│\n",
       "│<span style=\"color: #008080; text-decoration-color: #008080\"> Dec 16, 2016 </span>│<span style=\"color: #800080; text-decoration-color: #800080\"> Rogue One: A Star Wars Story      </span>│<span style=\"color: #008000; text-decoration-color: #008000\"> $1,332,439,889 </span>│\n",
       "└──────────────┴───────────────────────────────────┴────────────────┘\n",
       "</pre>\n"
      ],
      "text/plain": [
       "\u001b[3m                          Star Wars Movies                           \u001b[0m\n",
       "┏━━━━━━━━━━━━━━┳━━━━━━━━━━━━━━━━━━━━━━━━━━━━━━━━━━━┳━━━━━━━━━━━━━━━━┓\n",
       "┃\u001b[1m \u001b[0m\u001b[1m  Released  \u001b[0m\u001b[1m \u001b[0m┃\u001b[1m \u001b[0m\u001b[1mTitle                            \u001b[0m\u001b[1m \u001b[0m┃\u001b[1m \u001b[0m\u001b[1m    Box Office\u001b[0m\u001b[1m \u001b[0m┃\n",
       "┡━━━━━━━━━━━━━━╇━━━━━━━━━━━━━━━━━━━━━━━━━━━━━━━━━━━╇━━━━━━━━━━━━━━━━┩\n",
       "│\u001b[36m \u001b[0m\u001b[36mDec 20, 2019\u001b[0m\u001b[36m \u001b[0m│\u001b[35m \u001b[0m\u001b[35mStar Wars: The Rise of Skywalker \u001b[0m\u001b[35m \u001b[0m│\u001b[32m \u001b[0m\u001b[32m  $952,110,690\u001b[0m\u001b[32m \u001b[0m│\n",
       "│\u001b[36m \u001b[0m\u001b[36mMay 25, 2018\u001b[0m\u001b[36m \u001b[0m│\u001b[35m \u001b[0m\u001b[35mSolo: A Star Wars Story          \u001b[0m\u001b[35m \u001b[0m│\u001b[32m \u001b[0m\u001b[32m  $393,151,347\u001b[0m\u001b[32m \u001b[0m│\n",
       "│\u001b[36m \u001b[0m\u001b[36mDec 15, 2017\u001b[0m\u001b[36m \u001b[0m│\u001b[35m \u001b[0m\u001b[35mStar Wars Ep. V111: The Last Jedi\u001b[0m\u001b[35m \u001b[0m│\u001b[32m \u001b[0m\u001b[32m$1,332,539,889\u001b[0m\u001b[32m \u001b[0m│\n",
       "│\u001b[36m \u001b[0m\u001b[36mDec 16, 2016\u001b[0m\u001b[36m \u001b[0m│\u001b[35m \u001b[0m\u001b[35mRogue One: A Star Wars Story     \u001b[0m\u001b[35m \u001b[0m│\u001b[32m \u001b[0m\u001b[32m$1,332,439,889\u001b[0m\u001b[32m \u001b[0m│\n",
       "└──────────────┴───────────────────────────────────┴────────────────┘\n"
      ]
     },
     "metadata": {},
     "output_type": "display_data"
    }
   ],
   "source": [
    "\n",
    "from rich.console import Console\n",
    "from rich.table import Table\n",
    "\n",
    "def print_star_wars_movies():\n",
    "\n",
    "    table = Table(title=\"Star Wars Movies\")\n",
    "\n",
    "    table.add_column(\"Released\", justify=\"center\", style=\"cyan\", no_wrap=True)\n",
    "    table.add_column(\"Title\", style=\"magenta\") # default is left justified\n",
    "    table.add_column(\"Box Office\", justify=\"right\", style=\"green\")\n",
    "\n",
    "    table.add_row(\"Dec 20, 2019\", \"Star Wars: The Rise of Skywalker\", \"$952,110,690\")\n",
    "    table.add_row(\"May 25, 2018\", \"Solo: A Star Wars Story\", \"$393,151,347\")\n",
    "    table.add_row(\"Dec 15, 2017\", \"Star Wars Ep. V111: The Last Jedi\", \"$1,332,539,889\")\n",
    "    table.add_row(\"Dec 16, 2016\", \"Rogue One: A Star Wars Story\", \"$1,332,439,889\")\n",
    "\n",
    "    console = Console()\n",
    "    console.print(table)\n",
    "\n",
    "print_star_wars_movies()\n"
   ]
  },
  {
   "cell_type": "code",
   "execution_count": 20,
   "metadata": {},
   "outputs": [
    {
     "data": {
      "text/html": [
       "<pre style=\"white-space:pre;overflow-x:auto;line-height:normal;font-family:Menlo,'DejaVu Sans Mono',consolas,'Courier New',monospace\"><span style=\"font-style: italic\">                        Some Marvel Movies                        </span>\n",
       "               ╷                                ╷                 \n",
       " <span style=\"font-weight: bold\"> Released     </span>│<span style=\"font-weight: bold\"> Title                          </span>│<span style=\"font-weight: bold\">     Box Office </span> \n",
       " ══════════════╪════════════════════════════════╪════════════════ \n",
       " <span style=\"color: #008080; text-decoration-color: #008080\"> Apr 26, 2019 </span>│<span style=\"color: #800080; text-decoration-color: #800080\"> Avengers: Endgame              </span>│<span style=\"color: #008000; text-decoration-color: #008000\"> $2,798,800,564 </span> \n",
       " ──────────────┼────────────────────────────────┼──────────────── \n",
       " <span style=\"color: #008080; text-decoration-color: #008080\"> May 5, 2017  </span>│<span style=\"color: #800080; text-decoration-color: #800080\"> Guardians of the Galaxy Vol. 2 </span>│<span style=\"color: #008000; text-decoration-color: #008000\">   $863,756,051 </span> \n",
       " ──────────────┼────────────────────────────────┼──────────────── \n",
       " <span style=\"color: #008080; text-decoration-color: #008080\"> Jul 7, 2017  </span>│<span style=\"color: #800080; text-decoration-color: #800080\"> Spider Man Homecoming          </span>│<span style=\"color: #008000; text-decoration-color: #008000\">   $880,166,924 </span> \n",
       " ──────────────┼────────────────────────────────┼──────────────── \n",
       " <span style=\"color: #008080; text-decoration-color: #008080\"> May 6, 2016  </span>│<span style=\"color: #800080; text-decoration-color: #800080\"> Captain America: Civil War     </span>│<span style=\"color: #008000; text-decoration-color: #008000\"> $1,153,304,495 </span> \n",
       " ──────────────┼────────────────────────────────┼──────────────── \n",
       " <span style=\"color: #008080; text-decoration-color: #008080\"> May 1, 2015  </span>│<span style=\"color: #800080; text-decoration-color: #800080\"> Avengers: Age of Ultron        </span>│<span style=\"color: #008000; text-decoration-color: #008000\"> $1,395,316,979 </span> \n",
       " ──────────────┼────────────────────────────────┼──────────────── \n",
       " <span style=\"color: #008080; text-decoration-color: #008080\"> Nov 4, 2016  </span>│<span style=\"color: #800080; text-decoration-color: #800080\"> Doctor Strange                 </span>│<span style=\"color: #008000; text-decoration-color: #008000\">   $677,718,395 </span> \n",
       "               ╵                                ╵                 \n",
       "</pre>\n"
      ],
      "text/plain": [
       "\u001b[3m                        Some Marvel Movies                        \u001b[0m\n",
       "               ╷                                ╷                 \n",
       " \u001b[1m \u001b[0m\u001b[1mReleased    \u001b[0m\u001b[1m \u001b[0m│\u001b[1m \u001b[0m\u001b[1mTitle                         \u001b[0m\u001b[1m \u001b[0m│\u001b[1m \u001b[0m\u001b[1m    Box Office\u001b[0m\u001b[1m \u001b[0m \n",
       " ══════════════╪════════════════════════════════╪════════════════ \n",
       " \u001b[36m \u001b[0m\u001b[36mApr 26, 2019\u001b[0m\u001b[36m \u001b[0m│\u001b[35m \u001b[0m\u001b[35mAvengers: Endgame             \u001b[0m\u001b[35m \u001b[0m│\u001b[32m \u001b[0m\u001b[32m$2,798,800,564\u001b[0m\u001b[32m \u001b[0m \n",
       " ──────────────┼────────────────────────────────┼──────────────── \n",
       " \u001b[36m \u001b[0m\u001b[36mMay 5, 2017 \u001b[0m\u001b[36m \u001b[0m│\u001b[35m \u001b[0m\u001b[35mGuardians of the Galaxy Vol. 2\u001b[0m\u001b[35m \u001b[0m│\u001b[32m \u001b[0m\u001b[32m  $863,756,051\u001b[0m\u001b[32m \u001b[0m \n",
       " ──────────────┼────────────────────────────────┼──────────────── \n",
       " \u001b[36m \u001b[0m\u001b[36mJul 7, 2017 \u001b[0m\u001b[36m \u001b[0m│\u001b[35m \u001b[0m\u001b[35mSpider Man Homecoming         \u001b[0m\u001b[35m \u001b[0m│\u001b[32m \u001b[0m\u001b[32m  $880,166,924\u001b[0m\u001b[32m \u001b[0m \n",
       " ──────────────┼────────────────────────────────┼──────────────── \n",
       " \u001b[36m \u001b[0m\u001b[36mMay 6, 2016 \u001b[0m\u001b[36m \u001b[0m│\u001b[35m \u001b[0m\u001b[35mCaptain America: Civil War    \u001b[0m\u001b[35m \u001b[0m│\u001b[32m \u001b[0m\u001b[32m$1,153,304,495\u001b[0m\u001b[32m \u001b[0m \n",
       " ──────────────┼────────────────────────────────┼──────────────── \n",
       " \u001b[36m \u001b[0m\u001b[36mMay 1, 2015 \u001b[0m\u001b[36m \u001b[0m│\u001b[35m \u001b[0m\u001b[35mAvengers: Age of Ultron       \u001b[0m\u001b[35m \u001b[0m│\u001b[32m \u001b[0m\u001b[32m$1,395,316,979\u001b[0m\u001b[32m \u001b[0m \n",
       " ──────────────┼────────────────────────────────┼──────────────── \n",
       " \u001b[36m \u001b[0m\u001b[36mNov 4, 2016 \u001b[0m\u001b[36m \u001b[0m│\u001b[35m \u001b[0m\u001b[35mDoctor Strange                \u001b[0m\u001b[35m \u001b[0m│\u001b[32m \u001b[0m\u001b[32m  $677,718,395\u001b[0m\u001b[32m \u001b[0m \n",
       "               ╵                                ╵                 \n"
      ]
     },
     "metadata": {},
     "output_type": "display_data"
    }
   ],
   "source": [
    "from rich import box\n",
    "from rich.table import Table\n",
    "from rich.console import Console\n",
    "console = Console()\n",
    "# Defining table\n",
    "table = Table(title=\"Some Marvel Movies\", box=box.MINIMAL_DOUBLE_HEAD)\n",
    "\n",
    "# Adding columns \n",
    "table.add_column(\"Released\", style=\"cyan\", no_wrap=True)\n",
    "table.add_column(\"Title\", style=\"magenta\")\n",
    "table.add_column(\"Box Office\", justify=\"right\", style=\"green\")\n",
    "\n",
    "# Adding some movies in the rows - end section is used to add lines between rows\n",
    "table.add_row(\"Apr 26, 2019\", \"Avengers: Endgame\", \"$2,798,800,564\", end_section=True)\n",
    "table.add_row(\"May 5, 2017\", \"Guardians of the Galaxy Vol. 2\", \"$863,756,051\", end_section=True)\n",
    "table.add_row(\"Jul 7, 2017\", \"Spider Man Homecoming\", \"$880,166,924\", end_section=True)\n",
    "table.add_row(\"May 6, 2016\", \"Captain America: Civil War\", \"$1,153,304,495\", end_section=True)\n",
    "table.add_row(\"May 1, 2015\", \"Avengers: Age of Ultron\", \"$1,395,316,979\", end_section=True)\n",
    "table.add_row(\"Nov 4, 2016\", \"Doctor Strange\", \"$677,718,395\", end_section=True)\n",
    "\n",
    "console.print(table)"
   ]
  },
  {
   "cell_type": "markdown",
   "metadata": {},
   "source": [
    "## Grids"
   ]
  },
  {
   "cell_type": "code",
   "execution_count": 19,
   "metadata": {},
   "outputs": [
    {
     "data": {
      "text/html": [
       "<pre style=\"white-space:pre;overflow-x:auto;line-height:normal;font-family:Menlo,'DejaVu Sans Mono',consolas,'Courier New',monospace\">1   Learning Python                                                  <span style=\"color: #800080; text-decoration-color: #800080; font-weight: bold\">Pending </span><span style=\"color: #008000; text-decoration-color: #008000; font-weight: bold\">⏳</span>              \n",
       "2   Learning Poetry                                                  <span style=\"color: #800080; text-decoration-color: #800080; font-weight: bold\">Completed </span><span style=\"color: #008000; text-decoration-color: #008000; font-weight: bold\">✔</span>             \n",
       "</pre>\n"
      ],
      "text/plain": [
       "1   Learning Python                                                  \u001b[1;35mPending \u001b[0m\u001b[1;32m⏳\u001b[0m              \n",
       "2   Learning Poetry                                                  \u001b[1;35mCompleted \u001b[0m\u001b[1;32m✔\u001b[0m             \n"
      ]
     },
     "metadata": {},
     "output_type": "display_data"
    }
   ],
   "source": [
    "from rich import print as rprint\n",
    "from rich.table import Table\n",
    "\n",
    "grid = Table.grid(expand=True)\n",
    "grid.add_column() # Sr of task\n",
    "grid.add_column(justify=\"left\") # Title of task\n",
    "grid.add_column(justify=\"center\") # Status of task\n",
    "grid.add_row(\"1\", \"Learning Python\", \"[bold magenta]Pending [green]:hourglass_flowing_sand:\", end_section=True) # end_section has no effect on grid\n",
    "grid.add_row(\"2\", \"Learning Poetry\", \"[bold magenta]Completed [green]:heavy_check_mark:\")\n",
    "\n",
    "rprint(grid)"
   ]
  },
  {
   "cell_type": "code",
   "execution_count": null,
   "metadata": {},
   "outputs": [],
   "source": []
  }
 ],
 "metadata": {
  "kernelspec": {
   "display_name": "Python 3",
   "language": "python",
   "name": "python3"
  },
  "language_info": {
   "codemirror_mode": {
    "name": "ipython",
    "version": 3
   },
   "file_extension": ".py",
   "mimetype": "text/x-python",
   "name": "python",
   "nbconvert_exporter": "python",
   "pygments_lexer": "ipython3",
   "version": "3.10.12"
  }
 },
 "nbformat": 4,
 "nbformat_minor": 2
}
